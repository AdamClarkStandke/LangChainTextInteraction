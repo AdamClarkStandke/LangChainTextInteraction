{
  "nbformat": 4,
  "nbformat_minor": 0,
  "metadata": {
    "colab": {
      "provenance": [],
      "authorship_tag": "ABX9TyNdx5RklAkAQnKhPaUIKHU9",
      "include_colab_link": true
    },
    "kernelspec": {
      "name": "python3",
      "display_name": "Python 3"
    },
    "language_info": {
      "name": "python"
    }
  },
  "cells": [
    {
      "cell_type": "markdown",
      "metadata": {
        "id": "view-in-github",
        "colab_type": "text"
      },
      "source": [
        "<a href=\"https://colab.research.google.com/github/AdamClarkStandke/LangChainTextInteraction/blob/main/ScriptForPDFtoTEXTconversion.ipynb\" target=\"_parent\"><img src=\"https://colab.research.google.com/assets/colab-badge.svg\" alt=\"Open In Colab\"/></a>"
      ]
    },
    {
      "cell_type": "code",
      "execution_count": null,
      "metadata": {
        "id": "w_R72ZnGUoRU"
      },
      "outputs": [],
      "source": [
        "#PDF to TEXT Convertor\n",
        "\n",
        "!pip install pypdf\n",
        "import os\n",
        "from langchain.text_splitter import RecursiveCharacterTextSplitter\n",
        "from langchain_community.document_loaders import PyPDFLoader\n",
        "# paramaters for RCTSplitter\n",
        "chunk_size = 1000\n",
        "chunk_overlap = 4\n",
        "# directory to dump text documents\n",
        "newpath = r'/content/dump'\n",
        "# pdfs to load\n",
        "path = \"drive/MyDrive/ArticlesForTrip/BeyondVisualLineOfSight.pdf\"\n",
        "loader = PyPDFLoader(path)\n",
        "data=loader.load()\n",
        "chunk_size=chunk_size\n",
        "chunk_overlap=chunk_overlap\n",
        "rc_splitter = RecursiveCharacterTextSplitter(separators=[\"\\n\\n\", \"\\n\", \" \", \"\"],chunk_size=chunk_size, chunk_overlap=chunk_overlap)\n",
        "# writing text documents\n",
        "docs = rc_splitter.split_documents(data)\n",
        "if not os.path.exists(newpath):\n",
        "    os.makedirs(newpath)\n",
        "f = open('/content/dump/play.txt', 'w')\n",
        "for i in docs:\n",
        "  f.write(i.page_content)\n",
        "f.close()\n",
        "# upload to repo\n",
        "# dataset = load_dataset(\n",
        "#   \"SammyTime/plaything\",\n",
        "#   revision=\"main\"  # tag name, or branch name, or commit hash\n",
        "# )"
      ]
    }
  ]
}